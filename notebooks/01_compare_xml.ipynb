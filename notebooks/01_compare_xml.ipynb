{
 "cells": [
  {
   "cell_type": "code",
   "execution_count": 1,
   "metadata": {},
   "outputs": [],
   "source": [
    "import xml.etree.ElementTree as ET"
   ]
  },
  {
   "cell_type": "code",
   "execution_count": 2,
   "metadata": {},
   "outputs": [],
   "source": [
    "def compare_elements(elem1, elem2, path=\"\"):\n",
    "    \"\"\"\n",
    "    Recursively compares two XML elements and their attributes, tags, and text content.\n",
    "\n",
    "    Args:\n",
    "        elem1 (xml.etree.Element): The first XML element.\n",
    "        elem2 (xml.etree.Element): The second XML element.\n",
    "        path (str, optional): The path of the current element within the XML tree. Default is an empty string.\n",
    "\n",
    "    Returns:\n",
    "        None: Prints differences in tags, attributes, and text content if found.\n",
    "    \"\"\"\n",
    "    if elem1.tag != elem2.tag:\n",
    "        print(f\"Tags do not match at given {path = }\")\n",
    "        print(f\"\\t{elem1.tag =  } \\n\\t{elem2.tag = }\")\n",
    "\n",
    "    if elem1.attrib != elem2.attrib:\n",
    "        print(f\"Attributes do not match: at given {path = }\")\n",
    "        print(f\"\\t{elem1.attrib = } \\n\\t{elem2.attrib  = }\")\n",
    "\n",
    "    if elem1.text != elem2.text:\n",
    "        print(f\"Text content does not match at given {path = }\")\n",
    "        print(f\"\\t{elem1.text = } \\n\\t{elem2.text = }\")\n",
    "\n",
    "    for child1, child2 in zip(elem1, elem2):\n",
    "        compare_elements(child1, child2, path + \"/\" + elem1.tag)\n"
   ]
  },
  {
   "cell_type": "code",
   "execution_count": 3,
   "metadata": {},
   "outputs": [],
   "source": [
    "def compare_xml_files(file1_path, file2_path):\n",
    "    \"\"\"\n",
    "    Compares two XML files by parsing them and comparing their root elements.\n",
    "\n",
    "    Args:\n",
    "        file1_path (str): The file path of the first XML file.\n",
    "        file2_path (str): The file path of the second XML file.\n",
    "\n",
    "    Returns:\n",
    "        None: Prints differences in the XML structure if found.\n",
    "    \"\"\"\n",
    "    # parse the XML files\n",
    "    tree1 = ET.parse(file1_path)\n",
    "    tree2 = ET.parse(file2_path)\n",
    "\n",
    "    # get the roots of the XML trees\n",
    "    root1 = tree1.getroot()\n",
    "    root2 = tree2.getroot()\n",
    "    compare_elements(root1, root2)\n"
   ]
  },
  {
   "cell_type": "code",
   "execution_count": 4,
   "metadata": {},
   "outputs": [
    {
     "name": "stdout",
     "output_type": "stream",
     "text": [
      "Attributes do not match: at given path = '/DEFTABLE'\n",
      "\telem1.attrib = {'MAIN_FOLDER_NAME': 'CLOUD-D-EXPENSE', 'SUB_FOLDER_NAME': 'CLOUD-D-EXPENSE-PAYROLL', 'JOBNAME': 'Payroll'} \n",
      "\telem2.attrib  = {'MAIN_FOLDER_NAME': 'CLOUD-D-REVENUE', 'SUB_FOLDER_NAME': 'CLOUD-D-REVENUE-SALES', 'JOBNAME': 'Revenue'}\n",
      "Attributes do not match: at given path = '/DEFTABLE/FOLDER'\n",
      "\telem1.attrib = {'JOB_NAME': 'SalesReportJob1', 'JOB_DURATION': '3h', 'PRIORITY': 'Medium', 'OWNER': 'Alice', 'SECRET': 'vaultkeyd1'} \n",
      "\telem2.attrib  = {'JOB_NAME': 'ReportingJob1', 'JOB_DURATION': '2h', 'PRIORITY': 'Low', 'OWNER': 'Eve', 'SECRET': 'vaultkeyd1'}\n",
      "Attributes do not match: at given path = '/DEFTABLE/FOLDER/JOB'\n",
      "\telem1.attrib = {'NAME': '%%input_data', 'VALUE': 'sales_data_team1'} \n",
      "\telem2.attrib  = {'NAME': '%%input_data', 'VALUE': 'data_source1'}\n",
      "Attributes do not match: at given path = '/DEFTABLE/FOLDER/JOB'\n",
      "\telem1.attrib = {'NAME': '%%output_report', 'VALUE': 'monthly_report_team1.pdf'} \n",
      "\telem2.attrib  = {'NAME': '%%output_report', 'VALUE': 'report1.pdf'}\n",
      "Attributes do not match: at given path = '/DEFTABLE/FOLDER/JOB'\n",
      "\telem1.attrib = {'NAME': '%%log_file', 'VALUE': 'sales_log_team1.txt'} \n",
      "\telem2.attrib  = {'NAME': '%%log_file', 'VALUE': 'report_log1.txt'}\n",
      "Attributes do not match: at given path = '/DEFTABLE/FOLDER'\n",
      "\telem1.attrib = {'JOB_NAME': 'SalesReportJob2', 'JOB_DURATION': '2h', 'PRIORITY': 'High', 'OWNER': 'Bob', 'SECRET': 'vaultkeyd2'} \n",
      "\telem2.attrib  = {'JOB_NAME': 'ReportingJob2', 'JOB_DURATION': '1h', 'PRIORITY': 'High', 'OWNER': 'Dave', 'SECRET': 'vaultkeyd2'}\n",
      "Attributes do not match: at given path = '/DEFTABLE/FOLDER/JOB'\n",
      "\telem1.attrib = {'NAME': '%%input_data', 'VALUE': 'sales_data_team2'} \n",
      "\telem2.attrib  = {'NAME': '%%input_data', 'VALUE': 'data_source2'}\n",
      "Attributes do not match: at given path = '/DEFTABLE/FOLDER/JOB'\n",
      "\telem1.attrib = {'NAME': '%%output_report', 'VALUE': 'monthly_report_team2.pdf'} \n",
      "\telem2.attrib  = {'NAME': '%%output_report', 'VALUE': 'report2.pdf'}\n",
      "Attributes do not match: at given path = '/DEFTABLE/FOLDER/JOB'\n",
      "\telem1.attrib = {'NAME': '%%log_file', 'VALUE': 'sales_log_team2.txt'} \n",
      "\telem2.attrib  = {'NAME': '%%log_file', 'VALUE': 'report_log2.txt'}\n"
     ]
    }
   ],
   "source": [
    "# XML file paths\n",
    "file1_path = \"../dev_files/sample_dev1.xml\"\n",
    "file2_path = \"../dev_files/sample_dev2.xml\"\n",
    "\n",
    "compare_xml_files(file1_path, file2_path)"
   ]
  }
 ],
 "metadata": {
  "kernelspec": {
   "display_name": "Python 3",
   "language": "python",
   "name": "python3"
  },
  "language_info": {
   "codemirror_mode": {
    "name": "ipython",
    "version": 3
   },
   "file_extension": ".py",
   "mimetype": "text/x-python",
   "name": "python",
   "nbconvert_exporter": "python",
   "pygments_lexer": "ipython3",
   "version": "3.11.2"
  },
  "orig_nbformat": 4
 },
 "nbformat": 4,
 "nbformat_minor": 2
}
