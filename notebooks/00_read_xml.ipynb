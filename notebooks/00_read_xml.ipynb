{
 "cells": [
  {
   "cell_type": "code",
   "execution_count": 1,
   "metadata": {},
   "outputs": [],
   "source": [
    "import xml.etree.ElementTree as ET"
   ]
  },
  {
   "cell_type": "code",
   "execution_count": 2,
   "metadata": {},
   "outputs": [
    {
     "data": {
      "text/plain": [
       "<xml.etree.ElementTree.ElementTree at 0x110e0b7d0>"
      ]
     },
     "execution_count": 2,
     "metadata": {},
     "output_type": "execute_result"
    }
   ],
   "source": [
    "file_path = \"../dev_files/sample_dev1.xml\"\n",
    "\n",
    "# parse the XML file\n",
    "sample_tree = ET.parse(file_path)\n",
    "sample_tree"
   ]
  },
  {
   "cell_type": "code",
   "execution_count": 3,
   "metadata": {},
   "outputs": [
    {
     "data": {
      "text/plain": [
       "<Element 'DEFTABLE' at 0x110caaca0>"
      ]
     },
     "execution_count": 3,
     "metadata": {},
     "output_type": "execute_result"
    }
   ],
   "source": [
    "# get the roots of the XML tree\n",
    "sample_root = sample_tree.getroot()\n",
    "sample_root"
   ]
  },
  {
   "cell_type": "code",
   "execution_count": 4,
   "metadata": {},
   "outputs": [
    {
     "name": "stdout",
     "output_type": "stream",
     "text": [
      "<Element 'FOLDER' at 0x110caa430>\n"
     ]
    }
   ],
   "source": [
    "for element in sample_root:\n",
    "    print(element)"
   ]
  },
  {
   "cell_type": "code",
   "execution_count": 6,
   "metadata": {},
   "outputs": [
    {
     "name": "stdout",
     "output_type": "stream",
     "text": [
      "element.tag = 'FOLDER'\n",
      "element.attrib = {'MAIN_FOLDER_NAME': 'CLOUD-D-EXPENSE', 'SUB_FOLDER_NAME': 'CLOUD-D-EXPENSE-PAYROLL', 'JOBNAME': 'Payroll'}\n"
     ]
    }
   ],
   "source": [
    "for element in sample_root:\n",
    "    print(f\"{element.tag = }\")\n",
    "    print(f\"{element.attrib = }\")"
   ]
  },
  {
   "cell_type": "code",
   "execution_count": 7,
   "metadata": {},
   "outputs": [
    {
     "name": "stdout",
     "output_type": "stream",
     "text": [
      "child.tag = 'JOB'\n",
      "child.attrib = {'JOB_NAME': 'SalesReportJob1', 'JOB_DURATION': '3h', 'PRIORITY': 'Medium', 'OWNER': 'Alice', 'SECRET': 'vaultkeyd1'}\n",
      "child.tag = 'JOB'\n",
      "child.attrib = {'JOB_NAME': 'SalesReportJob2', 'JOB_DURATION': '2h', 'PRIORITY': 'High', 'OWNER': 'Bob', 'SECRET': 'vaultkeyd2'}\n"
     ]
    }
   ],
   "source": [
    "for element in sample_root:\n",
    "    for child in element:\n",
    "        print(f\"{child.tag = }\")\n",
    "        print(f\"{child.attrib = }\")"
   ]
  },
  {
   "cell_type": "code",
   "execution_count": 10,
   "metadata": {},
   "outputs": [
    {
     "name": "stdout",
     "output_type": "stream",
     "text": [
      "JOB_NAME: SalesReportJob1\n",
      "JOB_DURATION: 3h\n",
      "PRIORITY: Medium\n",
      "OWNER: Alice\n",
      "SECRET: vaultkeyd1\n",
      "JOB_NAME: SalesReportJob2\n",
      "JOB_DURATION: 2h\n",
      "PRIORITY: High\n",
      "OWNER: Bob\n",
      "SECRET: vaultkeyd2\n"
     ]
    }
   ],
   "source": [
    "for element in sample_root:\n",
    "    for child in element:\n",
    "        for key, value in child.items():\n",
    "            print(f\"{key}: {value}\")\n",
    "        "
   ]
  }
 ],
 "metadata": {
  "kernelspec": {
   "display_name": "Python 3",
   "language": "python",
   "name": "python3"
  },
  "language_info": {
   "codemirror_mode": {
    "name": "ipython",
    "version": 3
   },
   "file_extension": ".py",
   "mimetype": "text/x-python",
   "name": "python",
   "nbconvert_exporter": "python",
   "pygments_lexer": "ipython3",
   "version": "3.11.2"
  },
  "orig_nbformat": 4
 },
 "nbformat": 4,
 "nbformat_minor": 2
}
